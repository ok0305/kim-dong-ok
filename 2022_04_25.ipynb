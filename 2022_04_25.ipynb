{
  "nbformat": 4,
  "nbformat_minor": 0,
  "metadata": {
    "colab": {
      "name": "2022.04.25",
      "provenance": [],
      "authorship_tag": "ABX9TyMQyenDcT6SGhi8tVTykJ4j",
      "include_colab_link": true
    },
    "kernelspec": {
      "name": "python3",
      "display_name": "Python 3"
    },
    "language_info": {
      "name": "python"
    }
  },
  "cells": [
    {
      "cell_type": "markdown",
      "metadata": {
        "id": "view-in-github",
        "colab_type": "text"
      },
      "source": [
        "<a href=\"https://colab.research.google.com/github/ok0305/kim-dong-ok/blob/main/2022_04_25.ipynb\" target=\"_parent\"><img src=\"https://colab.research.google.com/assets/colab-badge.svg\" alt=\"Open In Colab\"/></a>"
      ]
    },
    {
      "cell_type": "markdown",
      "source": [
        "- Python에서 Auto Correlation이란 일정 시간 간격 속에서 어떠한 변수의 현재와 미래가치를 예측해 봄으로써 시간 간격 사이에서의 관련성을 예측해 보는 것이다.\n",
        "만약, 시간 간격 속에서 auto corrleation이 높다면 시간 간격 속에서 변수는 유사성을 띠기 때문에 과거를 통해 현재를 예측하기 쉬움을 의미한다. "
      ],
      "metadata": {
        "id": "BSVzg_JYi-YM"
      }
    },
    {
      "cell_type": "code",
      "source": [
        "import pandas as pd\n",
        "from matplotlib import pyplot as plt\n",
        "from statsmodels.graphics.tsaplots import plot_acf\n"
      ],
      "metadata": {
        "colab": {
          "base_uri": "https://localhost:8080/"
        },
        "id": "rCesTUfnlzfT",
        "outputId": "7e280956-82e1-483c-c96d-9da21f70a45d"
      },
      "execution_count": 7,
      "outputs": [
        {
          "output_type": "stream",
          "name": "stderr",
          "text": [
            "/usr/local/lib/python3.7/dist-packages/statsmodels/tools/_testing.py:19: FutureWarning: pandas.util.testing is deprecated. Use the functions in the public API at pandas.testing instead.\n",
            "  import pandas.util.testing as tm\n"
          ]
        }
      ]
    },
    {
      "cell_type": "markdown",
      "source": [
        "- Python에서 root mean square이란 숫자들의 평균 제곱근을 구하는 것으로 실제 값과 측정된 값의 차이를 보여준다. 이 모델의 에러 값이 낮을 수록 정확도가 높아짐을 의미한다."
      ],
      "metadata": {
        "id": "cbHbRbc0mO5F"
      }
    },
    {
      "cell_type": "code",
      "source": [
        "import numpy as np\n",
        "actual = [1,2,5,2,7, 5]\n",
        "predicted = [1,4,2,9,8,6] \n",
        "diff=np.subtract(actual,predicted)\n",
        "square=np.square(diff)\n",
        "MSE=square.mean()\n",
        "RMSE=np.sqrt(MSE)\n",
        "print(\"Root Mean Square Error:\", RMSE)"
      ],
      "metadata": {
        "colab": {
          "base_uri": "https://localhost:8080/"
        },
        "id": "kIUyoMwzo-Gg",
        "outputId": "be118bd1-9784-4116-bc72-8aa6e15162c6"
      },
      "execution_count": 9,
      "outputs": [
        {
          "output_type": "stream",
          "name": "stdout",
          "text": [
            "Root Mean Square Error: 3.265986323710904\n"
          ]
        }
      ]
    }
  ]
}