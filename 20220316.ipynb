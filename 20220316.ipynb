{
  "nbformat": 4,
  "nbformat_minor": 0,
  "metadata": {
    "colab": {
      "name": "20220316",
      "provenance": [],
      "collapsed_sections": [],
      "mount_file_id": "1wF5qJnZFcEKikTYaOYMntwfydlPrjLmT",
      "authorship_tag": "ABX9TyNZDVGluAyUEWbwRocyDsgm",
      "include_colab_link": true
    },
    "kernelspec": {
      "name": "python3",
      "display_name": "Python 3"
    },
    "language_info": {
      "name": "python"
    }
  },
  "cells": [
    {
      "cell_type": "markdown",
      "metadata": {
        "id": "view-in-github",
        "colab_type": "text"
      },
      "source": [
        "<a href=\"https://colab.research.google.com/github/ok0305/kim-dong-ok/blob/main/20220316.ipynb\" target=\"_parent\"><img src=\"https://colab.research.google.com/assets/colab-badge.svg\" alt=\"Open In Colab\"/></a>"
      ]
    },
    {
      "cell_type": "code",
      "execution_count": 3,
      "metadata": {
        "colab": {
          "base_uri": "https://localhost:8080/"
        },
        "id": "LWmXHVOx_G6j",
        "outputId": "032e2ba6-bd2b-441f-c79d-2f1f060959fa"
      },
      "outputs": [
        {
          "output_type": "stream",
          "name": "stdout",
          "text": [
            "k\n"
          ]
        }
      ],
      "source": [
        "s='korea'\n",
        "print(s[0])"
      ]
    },
    {
      "cell_type": "code",
      "source": [
        "pr=[1,2,3,4,5,6,7,8,9,10]\n",
        "print(pr[0:6])"
      ],
      "metadata": {
        "colab": {
          "base_uri": "https://localhost:8080/"
        },
        "id": "dd6a2Ix_BvFB",
        "outputId": "d9b58276-474e-43ee-a836-85b009f16217"
      },
      "execution_count": 5,
      "outputs": [
        {
          "output_type": "stream",
          "name": "stdout",
          "text": [
            "[1, 2, 3, 4, 5, 6]\n"
          ]
        }
      ]
    },
    {
      "cell_type": "code",
      "source": [
        "p='korea university'\n",
        "print(p[1:4], p[3:-1], p[2:])"
      ],
      "metadata": {
        "colab": {
          "base_uri": "https://localhost:8080/"
        },
        "id": "ld_4bHoKCEB9",
        "outputId": "ee47372f-c1dc-4621-8a7c-cc3335d26eea"
      },
      "execution_count": 19,
      "outputs": [
        {
          "output_type": "stream",
          "name": "stdout",
          "text": [
            "ore ea universit rea university\n"
          ]
        }
      ]
    },
    {
      "cell_type": "code",
      "source": [
        "a=[2, 4, 6, 8, 10]\n",
        "for k in a:\n",
        "      print(k)"
      ],
      "metadata": {
        "colab": {
          "base_uri": "https://localhost:8080/"
        },
        "id": "8Wm5bfE2H5iA",
        "outputId": "8acc8911-7092-4de8-9a1e-2d9d469f5723"
      },
      "execution_count": 38,
      "outputs": [
        {
          "output_type": "stream",
          "name": "stdout",
          "text": [
            "2\n",
            "4\n",
            "6\n",
            "8\n",
            "10\n"
          ]
        }
      ]
    },
    {
      "cell_type": "code",
      "source": [
        "a=[3, 6, 9, 12, 15]\n",
        "for t in range(4):\n",
        "      print(a[t])"
      ],
      "metadata": {
        "colab": {
          "base_uri": "https://localhost:8080/"
        },
        "id": "Atueo3IQJE6x",
        "outputId": "a86c2366-e528-40b1-891f-e061a180d2d4"
      },
      "execution_count": 46,
      "outputs": [
        {
          "output_type": "stream",
          "name": "stdout",
          "text": [
            "3\n",
            "6\n",
            "9\n",
            "12\n"
          ]
        }
      ]
    },
    {
      "cell_type": "code",
      "source": [
        "a=3\n",
        "if a==3:\n",
        "  print(a)\n",
        "else:\n",
        "   print(a+2)  "
      ],
      "metadata": {
        "colab": {
          "base_uri": "https://localhost:8080/"
        },
        "id": "bh0vmlgPKEWQ",
        "outputId": "4386f4d4-bacd-4984-8c4d-fc55a8fa544a"
      },
      "execution_count": 47,
      "outputs": [
        {
          "output_type": "stream",
          "name": "stdout",
          "text": [
            "3\n"
          ]
        }
      ]
    },
    {
      "cell_type": "code",
      "source": [
        "for k in range(2, 9):\n",
        "  for t in range(4, 8):\n",
        "        print(k+t)"
      ],
      "metadata": {
        "colab": {
          "base_uri": "https://localhost:8080/"
        },
        "id": "ii1dMox1KiTm",
        "outputId": "cfdaae38-0f29-4056-bdc4-ba5d5d557737"
      },
      "execution_count": 53,
      "outputs": [
        {
          "output_type": "stream",
          "name": "stdout",
          "text": [
            "6\n",
            "7\n",
            "8\n",
            "9\n",
            "7\n",
            "8\n",
            "9\n",
            "10\n",
            "8\n",
            "9\n",
            "10\n",
            "11\n",
            "9\n",
            "10\n",
            "11\n",
            "12\n",
            "10\n",
            "11\n",
            "12\n",
            "13\n",
            "11\n",
            "12\n",
            "13\n",
            "14\n",
            "12\n",
            "13\n",
            "14\n",
            "15\n"
          ]
        }
      ]
    },
    {
      "cell_type": "code",
      "source": [
        "import numpy as np"
      ],
      "metadata": {
        "id": "-kbptqPrLFHt"
      },
      "execution_count": 54,
      "outputs": []
    },
    {
      "cell_type": "code",
      "source": [
        "x= np.array([2,3,4])\n",
        "print(x)\n",
        "print(type(x))\n",
        "print(x.shape)           "
      ],
      "metadata": {
        "colab": {
          "base_uri": "https://localhost:8080/"
        },
        "id": "fyARFbiIME4e",
        "outputId": "3ce5e1d9-45f1-4011-c3aa-f9a470d06001"
      },
      "execution_count": 58,
      "outputs": [
        {
          "output_type": "stream",
          "name": "stdout",
          "text": [
            "[2 3 4]\n",
            "<class 'numpy.ndarray'>\n",
            "(3,)\n"
          ]
        }
      ]
    },
    {
      "cell_type": "code",
      "source": [
        "import matplotlib.pyplot as plt"
      ],
      "metadata": {
        "id": "E8aBPC1SNOPO"
      },
      "execution_count": 59,
      "outputs": []
    },
    {
      "cell_type": "code",
      "source": [
        "y= np. random.normal(0, 1, 50)\n",
        "print(y)\n",
        "plt.hist(y, bins=20)"
      ],
      "metadata": {
        "colab": {
          "base_uri": "https://localhost:8080/",
          "height": 574
        },
        "id": "se9dX1HjNliL",
        "outputId": "b0fcf998-6b7b-4a1e-ffc0-859f9af7a2d2"
      },
      "execution_count": 61,
      "outputs": [
        {
          "output_type": "stream",
          "name": "stdout",
          "text": [
            "[-0.48698072 -0.48748788  0.10775119 -0.66865699  0.62278173 -0.62982359\n",
            "  0.287607    0.24241927 -0.95741861  0.54944565  1.5632353   0.89361992\n",
            "  0.44203316 -0.61228633 -1.95304019  0.43243032 -1.630562   -1.43532368\n",
            " -0.45866069  1.43787845 -1.36327162  0.56106872  0.61470103  0.67922925\n",
            "  0.82929279  1.74837732 -1.59263886 -0.986782   -0.16122565 -0.44941972\n",
            "  0.20303397 -0.22341047  1.95578537  0.20636849  0.32753324 -2.00948107\n",
            "  0.12036296 -1.83540731  0.71489727  0.48380051 -0.19919183 -0.88216681\n",
            " -0.29977315 -0.8437252  -0.44506459 -1.02656641  1.52193814  0.34541772\n",
            "  0.28556984 -0.55563536]\n"
          ]
        },
        {
          "output_type": "execute_result",
          "data": {
            "text/plain": [
              "(array([3., 1., 2., 1., 1., 4., 2., 7., 1., 3., 2., 7., 5., 4., 2., 0., 0.,\n",
              "        2., 2., 1.]),\n",
              " array([-2.00948107, -1.81121775, -1.61295443, -1.41469111, -1.21642778,\n",
              "        -1.01816446, -0.81990114, -0.62163782, -0.42337449, -0.22511117,\n",
              "        -0.02684785,  0.17141547,  0.3696788 ,  0.56794212,  0.76620544,\n",
              "         0.96446876,  1.16273208,  1.36099541,  1.55925873,  1.75752205,\n",
              "         1.95578537]),\n",
              " <a list of 20 Patch objects>)"
            ]
          },
          "metadata": {},
          "execution_count": 61
        },
        {
          "output_type": "display_data",
          "data": {
            "text/plain": [
              "<Figure size 432x288 with 1 Axes>"
            ],
            "image/png": "[encoded data removed]"
          },
          "metadata": {
            "needs_background": "light"
          }
        }
      ]
    }
  ]
}